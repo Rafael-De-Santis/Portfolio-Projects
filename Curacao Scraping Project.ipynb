{
 "cells": [
  {
   "cell_type": "code",
   "execution_count": 1,
   "metadata": {},
   "outputs": [
    {
     "name": "stdout",
     "output_type": "stream",
     "text": [
      "Getting page, 1\n",
      "Getting page, 2\n",
      "                                               title    price discount  \\\n",
      "0  Microsoft - Xbox Series S 512 GB All-Digital (...  $249.99  14% Off   \n",
      "1           Oculus Bundle: VR Headset + Elite Strap   $399.99            \n",
      "2     Oculus Quest Bundle: VR Headset + Elite Strap   $499.99            \n",
      "3  Xbox Bundle: Xbox Series X Console+ Elite Seri...  $699.95            \n",
      "4  PlayStation 5 Gaming Console + God of War Ragn...  $699.98            \n",
      "\n",
      "  old price savings  \n",
      "0   $289.99          \n",
      "1                    \n",
      "2                    \n",
      "3                    \n",
      "4                    \n"
     ]
    }
   ],
   "source": [
    "import pandas as pd\n",
    "import requests\n",
    "from bs4 import BeautifulSoup\n",
    "\n",
    "def extract(pag):\n",
    "    headers = {'User-Agent': 'Mozilla/5.0 (Windows NT 10.0; Win64; x64) AppleWebKit/537.36 (KHTML, like Gecko) Chrome/103.0.0.0 Safari/537.36'}\n",
    "    url = 'https://icuracao.com/online-specials/online-weekly-deals?p={1}product_list_limit=48'\n",
    "    page = requests.get(url, headers)\n",
    "    soup = BeautifulSoup(page.content, 'html.parser')\n",
    "    return soup\n",
    "#print(extract(1))\n",
    "\n",
    "\n",
    "def transform(soup):\n",
    "    lists = soup.find_all('div', class_=\"product-item-info\")\n",
    "    for list in lists:\n",
    "        title = list.find('a', class_=\"product-item-link\").text.replace('\\n', '')\n",
    "        try:\n",
    "            discount = list.find('p', class_=\"price-off\").text.replace('\\n', '')\n",
    "        except:\n",
    "            discount = ''\n",
    "        price = list.find('span', class_=\"price\").text.replace('\\n', '')\n",
    "        try:\n",
    "            oldprice = list.find('span', class_=\"old-price\").text.replace('\\n', '').split(\"SAVE\", 1)[0]\n",
    "        except:\n",
    "            oldprice = ''\n",
    "        try:\n",
    "            saved = list.find('span', class_=\"diff\").text.replace('\\n', '').split(\"SAVE \", 1)[1]\n",
    "        except:\n",
    "            saved = ''\n",
    "        pinfo = [title, discount, price, oldprice, saved]\n",
    "        \n",
    "        product = {\n",
    "                'title': title,\n",
    "                'price': price,\n",
    "                'discount': discount,\n",
    "                'old price': oldprice,\n",
    "                'savings': saved\n",
    "        }\n",
    "        productlist.append(product)\n",
    "    return\n",
    "\n",
    "productlist = []\n",
    "for i in range(1,3,1):\n",
    "    print(f'Getting page, {i}')\n",
    "    c = extract(1)\n",
    "    transform(c)\n",
    "\n",
    "df = pd.DataFrame(productlist)\n",
    "print(df.head())\n",
    "df.to_csv('curaproducts.csv')"
   ]
  },
  {
   "cell_type": "code",
   "execution_count": null,
   "metadata": {},
   "outputs": [],
   "source": []
  }
 ],
 "metadata": {
  "kernelspec": {
   "display_name": "Python 3 (ipykernel)",
   "language": "python",
   "name": "python3"
  },
  "language_info": {
   "codemirror_mode": {
    "name": "ipython",
    "version": 3
   },
   "file_extension": ".py",
   "mimetype": "text/x-python",
   "name": "python",
   "nbconvert_exporter": "python",
   "pygments_lexer": "ipython3",
   "version": "3.9.12"
  },
  "vscode": {
   "interpreter": {
    "hash": "39163f0cf238ac5cfc5b635fdfd9b042553d82ac1bf0989906bffbc4ea8dda79"
   }
  }
 },
 "nbformat": 4,
 "nbformat_minor": 4
}
